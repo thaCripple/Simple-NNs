{
  "nbformat": 4,
  "nbformat_minor": 0,
  "metadata": {
    "colab": {
      "provenance": [],
      "toc_visible": true,
      "authorship_tag": "ABX9TyM6CAZnUKDy2+X/pEo1yhbA",
      "include_colab_link": true
    },
    "kernelspec": {
      "name": "python3",
      "display_name": "Python 3"
    },
    "language_info": {
      "name": "python"
    }
  },
  "cells": [
    {
      "cell_type": "markdown",
      "metadata": {
        "id": "view-in-github",
        "colab_type": "text"
      },
      "source": [
        "<a href=\"https://colab.research.google.com/github/thaCripple/Simple-NNs/blob/main/tf%20MulticlassNLP%20with%20sklearn%20preprocessing/Multiclass_NLP.ipynb\" target=\"_parent\"><img src=\"https://colab.research.google.com/assets/colab-badge.svg\" alt=\"Open In Colab\"/></a>"
      ]
    },
    {
      "cell_type": "markdown",
      "source": [
        "# Multiclass NLP Classification of Stackoverflow questions"
      ],
      "metadata": {
        "id": "x67vRfnTXKPf"
      }
    },
    {
      "cell_type": "code",
      "execution_count": null,
      "metadata": {
        "id": "aU5veiVxOumo"
      },
      "outputs": [],
      "source": [
        "import pandas as pd\n",
        "import numpy as np\n",
        "import matplotlib.pyplot as plt\n",
        "import seaborn as sns\n",
        "import tensorflow as tf\n",
        "from tensorflow import keras"
      ]
    },
    {
      "cell_type": "code",
      "source": [
        "import os"
      ],
      "metadata": {
        "id": "QHWjPgeQQ5xl"
      },
      "execution_count": null,
      "outputs": []
    },
    {
      "cell_type": "markdown",
      "source": [
        "# Download the Data"
      ],
      "metadata": {
        "id": "jzSvFhtWXN4_"
      }
    },
    {
      "cell_type": "code",
      "source": [
        "data_url = \"https://storage.googleapis.com/download.tensorflow.org/data/stack_overflow_16k.tar.gz\""
      ],
      "metadata": {
        "id": "AiTpBaxMP5Da"
      },
      "execution_count": null,
      "outputs": []
    },
    {
      "cell_type": "code",
      "source": [
        "data_path = keras.utils.get_file(\n",
        "    cache_dir=\"/content/questions\",\n",
        "    origin=data_url,\n",
        "    extract=True)"
      ],
      "metadata": {
        "id": "VE6By5b1P__5",
        "colab": {
          "base_uri": "https://localhost:8080/"
        },
        "outputId": "3f23475b-48b9-448c-9293-6a35cd90c792"
      },
      "execution_count": null,
      "outputs": [
        {
          "output_type": "stream",
          "name": "stdout",
          "text": [
            "Downloading data from https://storage.googleapis.com/download.tensorflow.org/data/stack_overflow_16k.tar.gz\n",
            "\u001b[1m6053168/6053168\u001b[0m \u001b[32m━━━━━━━━━━━━━━━━━━━━\u001b[0m\u001b[37m\u001b[0m \u001b[1m0s\u001b[0m 0us/step\n"
          ]
        }
      ]
    },
    {
      "cell_type": "code",
      "source": [
        "data_path"
      ],
      "metadata": {
        "colab": {
          "base_uri": "https://localhost:8080/",
          "height": 35
        },
        "id": "l7CCeKloQxmG",
        "outputId": "af8f853b-bf76-4e68-b90e-48c8b9369e29"
      },
      "execution_count": null,
      "outputs": [
        {
          "output_type": "execute_result",
          "data": {
            "text/plain": [
              "'/content/questions/datasets/stack_overflow_16k.tar.gz'"
            ],
            "application/vnd.google.colaboratory.intrinsic+json": {
              "type": "string"
            }
          },
          "metadata": {},
          "execution_count": 10
        }
      ]
    },
    {
      "cell_type": "code",
      "source": [
        "os.listdir(data_path)"
      ],
      "metadata": {
        "colab": {
          "base_uri": "https://localhost:8080/"
        },
        "id": "fJT1-riXQ7Ck",
        "outputId": "828be78d-a890-4411-b278-13634de6210c"
      },
      "execution_count": null,
      "outputs": [
        {
          "output_type": "execute_result",
          "data": {
            "text/plain": [
              "['README.md', 'train', 'test']"
            ]
          },
          "metadata": {},
          "execution_count": 11
        }
      ]
    },
    {
      "cell_type": "markdown",
      "source": [
        "## Try to read files into a DF"
      ],
      "metadata": {
        "id": "FVgoFJyeXCOo"
      }
    },
    {
      "cell_type": "markdown",
      "source": [
        "Read csharp training questions"
      ],
      "metadata": {
        "id": "h0MXkgGYZePA"
      }
    },
    {
      "cell_type": "code",
      "source": [
        "csharp_train = []\n",
        "for txt in os.listdir(f\"{data_path}/train/csharp\"):\n",
        "  txt_path = f\"{data_path}/train/csharp/{txt}\"\n",
        "  with open(txt_path, \"r\") as question:\n",
        "    csharp_train.append(question.read())"
      ],
      "metadata": {
        "id": "ubVIORzhXG0B"
      },
      "execution_count": null,
      "outputs": []
    },
    {
      "cell_type": "code",
      "source": [
        "len(csharp_train)"
      ],
      "metadata": {
        "colab": {
          "base_uri": "https://localhost:8080/"
        },
        "id": "I0-t-sqYX6U_",
        "outputId": "330aa618-7e06-4c78-f542-9a99011f8eb1"
      },
      "execution_count": null,
      "outputs": [
        {
          "output_type": "execute_result",
          "data": {
            "text/plain": [
              "2000"
            ]
          },
          "metadata": {},
          "execution_count": 18
        }
      ]
    },
    {
      "cell_type": "markdown",
      "source": [
        "Read java training questions"
      ],
      "metadata": {
        "id": "U4M6QVQEZoEh"
      }
    },
    {
      "cell_type": "code",
      "source": [
        "java_train = []\n",
        "for txt in os.listdir(f\"{data_path}/train/java\"):\n",
        "  txt_path = f\"{data_path}/train/java/{txt}\"\n",
        "  with open(txt_path, \"r\") as question:\n",
        "    java_train.append(question.read())"
      ],
      "metadata": {
        "id": "NLRbqpDzZoEi"
      },
      "execution_count": null,
      "outputs": []
    },
    {
      "cell_type": "code",
      "source": [
        "len(java_train)"
      ],
      "metadata": {
        "colab": {
          "base_uri": "https://localhost:8080/"
        },
        "outputId": "6889ec1f-b949-4260-d500-b794b6edb7ed",
        "id": "vOYqs1AMZoEj"
      },
      "execution_count": 148,
      "outputs": [
        {
          "output_type": "execute_result",
          "data": {
            "text/plain": [
              "2000"
            ]
          },
          "metadata": {},
          "execution_count": 148
        }
      ]
    },
    {
      "cell_type": "markdown",
      "source": [
        "Read javascript training questions"
      ],
      "metadata": {
        "id": "4ykLM2lPZomQ"
      }
    },
    {
      "cell_type": "code",
      "source": [
        "javascript_train = []\n",
        "for txt in os.listdir(f\"{data_path}/train/javascript\"):\n",
        "  txt_path = f\"{data_path}/train/javascript/{txt}\"\n",
        "  with open(txt_path, \"r\") as question:\n",
        "    javascript_train.append(question.read())"
      ],
      "metadata": {
        "id": "KLq3jYJNZomT"
      },
      "execution_count": null,
      "outputs": []
    },
    {
      "cell_type": "code",
      "source": [
        "len(javascript_train)"
      ],
      "metadata": {
        "colab": {
          "base_uri": "https://localhost:8080/"
        },
        "outputId": "974676a1-8c6d-4af3-a68c-58d57eab9d16",
        "id": "DJM2hLSrZomV"
      },
      "execution_count": null,
      "outputs": [
        {
          "output_type": "execute_result",
          "data": {
            "text/plain": [
              "2000"
            ]
          },
          "metadata": {},
          "execution_count": 24
        }
      ]
    },
    {
      "cell_type": "markdown",
      "source": [
        "Read python training questions"
      ],
      "metadata": {
        "id": "1rE7b_JoZpDf"
      }
    },
    {
      "cell_type": "code",
      "source": [
        "python_train = []\n",
        "for txt in os.listdir(f\"{data_path}/train/python\"):\n",
        "  txt_path = f\"{data_path}/train/python/{txt}\"\n",
        "  with open(txt_path, \"r\") as question:\n",
        "    python_train.append(question.read())"
      ],
      "metadata": {
        "id": "RC3EdhnoZpDg"
      },
      "execution_count": null,
      "outputs": []
    },
    {
      "cell_type": "code",
      "source": [
        "len(python_train)"
      ],
      "metadata": {
        "colab": {
          "base_uri": "https://localhost:8080/"
        },
        "outputId": "61b6accd-9e4f-47f1-89cb-b0f4a8180b87",
        "id": "4VtWqoHIZpDg"
      },
      "execution_count": null,
      "outputs": [
        {
          "output_type": "execute_result",
          "data": {
            "text/plain": [
              "2000"
            ]
          },
          "metadata": {},
          "execution_count": 27
        }
      ]
    },
    {
      "cell_type": "markdown",
      "source": [
        "## Read test questions"
      ],
      "metadata": {
        "id": "kahxf8GfaZFA"
      }
    },
    {
      "cell_type": "markdown",
      "source": [
        "Read csharp test questions"
      ],
      "metadata": {
        "id": "8fFbWd4la2XV"
      }
    },
    {
      "cell_type": "code",
      "source": [
        "csharp_test = []\n",
        "for txt in os.listdir(f\"{data_path}/test/csharp\"):\n",
        "  txt_path = f\"{data_path}/test/csharp/{txt}\"\n",
        "  with open(txt_path, \"r\") as question:\n",
        "    csharp_test.append(question.read())"
      ],
      "metadata": {
        "id": "k1y0x4ZEak8d"
      },
      "execution_count": null,
      "outputs": []
    },
    {
      "cell_type": "code",
      "source": [
        "len(csharp_test)"
      ],
      "metadata": {
        "colab": {
          "base_uri": "https://localhost:8080/"
        },
        "outputId": "951a1f5e-7a6a-4adf-cf8b-0586a1c23303",
        "id": "Ksu7Vi9Vak8h"
      },
      "execution_count": null,
      "outputs": [
        {
          "output_type": "execute_result",
          "data": {
            "text/plain": [
              "2000"
            ]
          },
          "metadata": {},
          "execution_count": 29
        }
      ]
    },
    {
      "cell_type": "markdown",
      "source": [
        "Read java test questions"
      ],
      "metadata": {
        "id": "JHc1kdZnbERD"
      }
    },
    {
      "cell_type": "code",
      "source": [
        "java_test = []\n",
        "for txt in os.listdir(f\"{data_path}/test/java\"):\n",
        "  txt_path = f\"{data_path}/test/java/{txt}\"\n",
        "  with open(txt_path, \"r\") as question:\n",
        "    java_test.append(question.read())"
      ],
      "metadata": {
        "id": "ZDpzF9ncbERF"
      },
      "execution_count": null,
      "outputs": []
    },
    {
      "cell_type": "code",
      "source": [
        "len(java_test)"
      ],
      "metadata": {
        "colab": {
          "base_uri": "https://localhost:8080/"
        },
        "outputId": "20e0bd28-3428-4bc4-e5bb-c7c5ba2f9e35",
        "id": "V9-saq05bERG"
      },
      "execution_count": null,
      "outputs": [
        {
          "output_type": "execute_result",
          "data": {
            "text/plain": [
              "2000"
            ]
          },
          "metadata": {},
          "execution_count": 31
        }
      ]
    },
    {
      "cell_type": "markdown",
      "source": [
        "Read javascript test questions"
      ],
      "metadata": {
        "id": "aibng1o6bERH"
      }
    },
    {
      "cell_type": "code",
      "source": [
        "javascript_test = []\n",
        "for txt in os.listdir(f\"{data_path}/test/javascript\"):\n",
        "  txt_path = f\"{data_path}/test/javascript/{txt}\"\n",
        "  with open(txt_path, \"r\") as question:\n",
        "    javascript_test.append(question.read())"
      ],
      "metadata": {
        "id": "YxorRK9jbERI"
      },
      "execution_count": null,
      "outputs": []
    },
    {
      "cell_type": "code",
      "source": [
        "len(javascript_test)"
      ],
      "metadata": {
        "colab": {
          "base_uri": "https://localhost:8080/"
        },
        "outputId": "cd5123d0-89f8-459b-a54a-5010f912ab02",
        "id": "tdJi8V0xbERI"
      },
      "execution_count": null,
      "outputs": [
        {
          "output_type": "execute_result",
          "data": {
            "text/plain": [
              "2000"
            ]
          },
          "metadata": {},
          "execution_count": 33
        }
      ]
    },
    {
      "cell_type": "markdown",
      "source": [
        "Read python test questions"
      ],
      "metadata": {
        "id": "LmLKS2acbERJ"
      }
    },
    {
      "cell_type": "code",
      "source": [
        "python_test = []\n",
        "for txt in os.listdir(f\"{data_path}/test/python\"):\n",
        "  txt_path = f\"{data_path}/test/python/{txt}\"\n",
        "  with open(txt_path, \"r\") as question:\n",
        "    python_test.append(question.read())"
      ],
      "metadata": {
        "id": "M0StbsuzbERJ"
      },
      "execution_count": null,
      "outputs": []
    },
    {
      "cell_type": "code",
      "source": [
        "len(python_test)"
      ],
      "metadata": {
        "colab": {
          "base_uri": "https://localhost:8080/"
        },
        "outputId": "16c461e3-8009-4de2-da3e-2616691fef0a",
        "id": "S9GF8_HFbERK"
      },
      "execution_count": null,
      "outputs": [
        {
          "output_type": "execute_result",
          "data": {
            "text/plain": [
              "2000"
            ]
          },
          "metadata": {},
          "execution_count": 35
        }
      ]
    },
    {
      "cell_type": "markdown",
      "source": [
        "## Create Dataframes"
      ],
      "metadata": {
        "id": "sBowZZirbddp"
      }
    },
    {
      "cell_type": "markdown",
      "source": [
        "### Training"
      ],
      "metadata": {
        "id": "gm2UVtxjdLjz"
      }
    },
    {
      "cell_type": "code",
      "source": [
        "csharp_train_df = pd.DataFrame(data=csharp_train, columns=[\"question\"])"
      ],
      "metadata": {
        "id": "rSkGGtAUZqRF"
      },
      "execution_count": null,
      "outputs": []
    },
    {
      "cell_type": "code",
      "source": [
        "csharp_train_df[\"language\"] = \"csharp\""
      ],
      "metadata": {
        "id": "eyYrWZ7bcCWF"
      },
      "execution_count": null,
      "outputs": []
    },
    {
      "cell_type": "code",
      "source": [
        "java_train_df = pd.DataFrame(data=java_train, columns=[\"question\"])"
      ],
      "metadata": {
        "id": "-Pl4MvlDcfU1"
      },
      "execution_count": null,
      "outputs": []
    },
    {
      "cell_type": "code",
      "source": [
        "java_train_df[\"language\"] = \"java\""
      ],
      "metadata": {
        "id": "KzjW-L6_cfU3"
      },
      "execution_count": null,
      "outputs": []
    },
    {
      "cell_type": "code",
      "source": [
        "javascript_train_df = pd.DataFrame(data=javascript_train, columns=[\"question\"])"
      ],
      "metadata": {
        "id": "-BZJxAK4cfkj"
      },
      "execution_count": null,
      "outputs": []
    },
    {
      "cell_type": "code",
      "source": [
        "javascript_train_df[\"language\"] = \"javascript\""
      ],
      "metadata": {
        "id": "1h7udAYTcfkl"
      },
      "execution_count": null,
      "outputs": []
    },
    {
      "cell_type": "code",
      "source": [
        "python_train_df = pd.DataFrame(data=python_train, columns=[\"question\"])"
      ],
      "metadata": {
        "id": "N-oo7si8cf1f"
      },
      "execution_count": null,
      "outputs": []
    },
    {
      "cell_type": "code",
      "source": [
        "python_train_df[\"language\"] = \"python\""
      ],
      "metadata": {
        "id": "RDi1dDGmcf1g"
      },
      "execution_count": null,
      "outputs": []
    },
    {
      "cell_type": "markdown",
      "source": [
        "Training df"
      ],
      "metadata": {
        "id": "EpErz4vLcwRg"
      }
    },
    {
      "cell_type": "code",
      "source": [
        "train_df = pd.concat([csharp_train_df, java_train_df, javascript_train_df, python_train_df], axis=0)"
      ],
      "metadata": {
        "id": "-ZhHSDO0cdVj"
      },
      "execution_count": null,
      "outputs": []
    },
    {
      "cell_type": "code",
      "source": [
        "train_df = train_df.astype({\"language\": \"category\"})"
      ],
      "metadata": {
        "id": "m2tnvk8UeT3i"
      },
      "execution_count": null,
      "outputs": []
    },
    {
      "cell_type": "code",
      "source": [
        "train_df.info()"
      ],
      "metadata": {
        "colab": {
          "base_uri": "https://localhost:8080/"
        },
        "collapsed": true,
        "id": "mmGzRsQacdS_",
        "outputId": "f1b31704-8567-4ad7-ec8b-61f05cfdd5c1"
      },
      "execution_count": null,
      "outputs": [
        {
          "output_type": "stream",
          "name": "stdout",
          "text": [
            "<class 'pandas.core.frame.DataFrame'>\n",
            "Index: 8000 entries, 0 to 1999\n",
            "Data columns (total 2 columns):\n",
            " #   Column    Non-Null Count  Dtype   \n",
            "---  ------    --------------  -----   \n",
            " 0   question  8000 non-null   object  \n",
            " 1   language  8000 non-null   category\n",
            "dtypes: category(1), object(1)\n",
            "memory usage: 133.0+ KB\n"
          ]
        }
      ]
    },
    {
      "cell_type": "markdown",
      "source": [
        "### Testing"
      ],
      "metadata": {
        "id": "GRTind_1dQtF"
      }
    },
    {
      "cell_type": "code",
      "source": [
        "csharp_test_df = pd.DataFrame(data=csharp_test, columns=[\"question\"])"
      ],
      "metadata": {
        "id": "gCtizwwUdQtL"
      },
      "execution_count": null,
      "outputs": []
    },
    {
      "cell_type": "code",
      "source": [
        "csharp_test_df[\"language\"] = \"csharp\""
      ],
      "metadata": {
        "id": "6BXvavhVdQtM"
      },
      "execution_count": null,
      "outputs": []
    },
    {
      "cell_type": "code",
      "source": [
        "java_test_df = pd.DataFrame(data=java_test, columns=[\"question\"])"
      ],
      "metadata": {
        "id": "qMppklvCdQtN"
      },
      "execution_count": null,
      "outputs": []
    },
    {
      "cell_type": "code",
      "source": [
        "java_test_df[\"language\"] = \"java\""
      ],
      "metadata": {
        "id": "rw-r0uBUdQtO"
      },
      "execution_count": null,
      "outputs": []
    },
    {
      "cell_type": "code",
      "source": [
        "javascript_test_df = pd.DataFrame(data=javascript_test, columns=[\"question\"])"
      ],
      "metadata": {
        "id": "NjDLTPxSdQtP"
      },
      "execution_count": null,
      "outputs": []
    },
    {
      "cell_type": "code",
      "source": [
        "javascript_test_df[\"language\"] = \"javascript\""
      ],
      "metadata": {
        "id": "a4eUBaq6dQtQ"
      },
      "execution_count": null,
      "outputs": []
    },
    {
      "cell_type": "code",
      "source": [
        "python_test_df = pd.DataFrame(data=python_test, columns=[\"question\"])"
      ],
      "metadata": {
        "id": "HqbqoRIZdQtS"
      },
      "execution_count": null,
      "outputs": []
    },
    {
      "cell_type": "code",
      "source": [
        "python_test_df[\"language\"] = \"python\""
      ],
      "metadata": {
        "id": "hn3jGVNrdQtT"
      },
      "execution_count": null,
      "outputs": []
    },
    {
      "cell_type": "markdown",
      "source": [
        "Test df"
      ],
      "metadata": {
        "id": "X9MiBS3wdQtU"
      }
    },
    {
      "cell_type": "code",
      "source": [
        "test_df = pd.concat([csharp_test_df, java_test_df, javascript_test_df, python_test_df], axis=0)"
      ],
      "metadata": {
        "id": "1HaWRP0ndQtV"
      },
      "execution_count": null,
      "outputs": []
    },
    {
      "cell_type": "code",
      "source": [
        "test_df = test_df.astype({\"language\": \"category\"})"
      ],
      "metadata": {
        "id": "3QTvlrS0d9Kl"
      },
      "execution_count": null,
      "outputs": []
    },
    {
      "cell_type": "code",
      "source": [
        "test_df.info()"
      ],
      "metadata": {
        "colab": {
          "base_uri": "https://localhost:8080/"
        },
        "collapsed": true,
        "outputId": "2d833cfa-856d-4828-9a4a-0961e6d86195",
        "id": "_c5aiw1AdQtW"
      },
      "execution_count": null,
      "outputs": [
        {
          "output_type": "stream",
          "name": "stdout",
          "text": [
            "<class 'pandas.core.frame.DataFrame'>\n",
            "Index: 8000 entries, 0 to 1999\n",
            "Data columns (total 2 columns):\n",
            " #   Column    Non-Null Count  Dtype   \n",
            "---  ------    --------------  -----   \n",
            " 0   question  8000 non-null   object  \n",
            " 1   language  8000 non-null   category\n",
            "dtypes: category(1), object(1)\n",
            "memory usage: 133.0+ KB\n"
          ]
        }
      ]
    },
    {
      "cell_type": "markdown",
      "source": [
        "# Data Analysis"
      ],
      "metadata": {
        "id": "vmWNKcZvd2_R"
      }
    },
    {
      "cell_type": "markdown",
      "source": [
        "## Calculate the number of samples/number of words per sample ratio"
      ],
      "metadata": {
        "id": "8u84mLQnebEA"
      }
    },
    {
      "cell_type": "markdown",
      "source": [
        "Words per sample"
      ],
      "metadata": {
        "id": "K5Vny1ArehwE"
      }
    },
    {
      "cell_type": "code",
      "source": [
        "def count_words(question):\n",
        "  num_words = len(question.split())\n",
        "  return num_words"
      ],
      "metadata": {
        "id": "hU8BeqXHen7K"
      },
      "execution_count": null,
      "outputs": []
    },
    {
      "cell_type": "code",
      "source": [
        "train_df[\"n_words\"] = train_df['question'].apply(func=count_words)"
      ],
      "metadata": {
        "id": "nIkUhu3UcdKK"
      },
      "execution_count": null,
      "outputs": []
    },
    {
      "cell_type": "code",
      "source": [
        "print(f\"The Ratio equals: {train_df.shape[0]/train_df['n_words'].mean()}\")"
      ],
      "metadata": {
        "colab": {
          "base_uri": "https://localhost:8080/"
        },
        "id": "_odyZwbocdHl",
        "outputId": "e1da884d-a74d-486e-e061-8acf7e689a0f"
      },
      "execution_count": null,
      "outputs": [
        {
          "output_type": "stream",
          "name": "stdout",
          "text": [
            "The Ratio equals: 58.36992854243905\n"
          ]
        }
      ]
    },
    {
      "cell_type": "markdown",
      "source": [
        "# Data Preprocessing"
      ],
      "metadata": {
        "id": "pYIIMOpmg46h"
      }
    },
    {
      "cell_type": "code",
      "source": [
        "from sklearn.model_selection import train_test_split\n",
        "from sklearn.pipeline import Pipeline"
      ],
      "metadata": {
        "id": "TPIfyU0BhHet"
      },
      "execution_count": null,
      "outputs": []
    },
    {
      "cell_type": "code",
      "source": [
        "from sklearn.preprocessing import LabelEncoder\n",
        "from sklearn.feature_extraction.text import TfidfVectorizer\n",
        "from sklearn.feature_selection import SelectKBest\n",
        "from sklearn.feature_selection import f_classif"
      ],
      "metadata": {
        "id": "MCcSf-rJcdE5"
      },
      "execution_count": null,
      "outputs": []
    },
    {
      "cell_type": "code",
      "source": [
        "questions_raw = train_df['question'].copy()\n",
        "labels_raw = train_df['language'].copy()"
      ],
      "metadata": {
        "id": "1XTmewEzlGBi"
      },
      "execution_count": 195,
      "outputs": []
    },
    {
      "cell_type": "code",
      "source": [
        "lbl_encoder = LabelEncoder()"
      ],
      "metadata": {
        "id": "TD_uJ6SBiqpo"
      },
      "execution_count": null,
      "outputs": []
    },
    {
      "cell_type": "code",
      "source": [
        "labels_df = lbl_encoder.fit_transform(labels_raw)"
      ],
      "metadata": {
        "id": "T0Bl9S06kt1L"
      },
      "execution_count": null,
      "outputs": []
    },
    {
      "cell_type": "code",
      "source": [
        "X_train_raw, X_val_raw, y_train, y_val = train_test_split(questions_raw, labels_df, test_size=0.2, random_state=1)"
      ],
      "metadata": {
        "id": "SUgCKdsVcdCB"
      },
      "execution_count": null,
      "outputs": []
    },
    {
      "cell_type": "code",
      "source": [
        "vectorizer = TfidfVectorizer(\n",
        "    ngram_range=(1,2),\n",
        "    strip_accents='unicode',\n",
        "    decode_error='strict',\n",
        "    min_df=2\n",
        ")"
      ],
      "metadata": {
        "id": "4xbFE7B0ZqIE"
      },
      "execution_count": null,
      "outputs": []
    },
    {
      "cell_type": "code",
      "source": [
        "selector = SelectKBest(f_classif, k=20000)"
      ],
      "metadata": {
        "id": "vkqZffFgipsl"
      },
      "execution_count": null,
      "outputs": []
    },
    {
      "cell_type": "markdown",
      "source": [
        "### Create a Feature Preprocessing Pipeline"
      ],
      "metadata": {
        "id": "A64dXP2anz8c"
      }
    },
    {
      "cell_type": "code",
      "source": [
        "feat_pipe1 = Pipeline(steps=[\n",
        "    (\"tf_idf\", vectorizer),\n",
        "    (\"feature_selector\", selector)\n",
        "])"
      ],
      "metadata": {
        "id": "BP_deJU_ipqB"
      },
      "execution_count": null,
      "outputs": []
    },
    {
      "cell_type": "code",
      "source": [
        "X_train_raw.head()"
      ],
      "metadata": {
        "colab": {
          "base_uri": "https://localhost:8080/",
          "height": 241
        },
        "id": "lVeeuJsyipnD",
        "outputId": "e99b4005-e34e-4049-d92e-a3d81f65cbd3"
      },
      "execution_count": null,
      "outputs": [
        {
          "output_type": "execute_result",
          "data": {
            "text/plain": [
              "375     \"how to detect change in hour of system time i...\n",
              "255     \"cannot implicitly convert type 'newtonsoft.js...\n",
              "1670    \"keep asking for a number until a even number ...\n",
              "1882    \"how to store and retrieve 4 sbyte values in a...\n",
              "1946    \"blank finding the largest integer in an array...\n",
              "Name: question, dtype: object"
            ],
            "text/html": [
              "<div>\n",
              "<style scoped>\n",
              "    .dataframe tbody tr th:only-of-type {\n",
              "        vertical-align: middle;\n",
              "    }\n",
              "\n",
              "    .dataframe tbody tr th {\n",
              "        vertical-align: top;\n",
              "    }\n",
              "\n",
              "    .dataframe thead th {\n",
              "        text-align: right;\n",
              "    }\n",
              "</style>\n",
              "<table border=\"1\" class=\"dataframe\">\n",
              "  <thead>\n",
              "    <tr style=\"text-align: right;\">\n",
              "      <th></th>\n",
              "      <th>question</th>\n",
              "    </tr>\n",
              "  </thead>\n",
              "  <tbody>\n",
              "    <tr>\n",
              "      <th>375</th>\n",
              "      <td>\"how to detect change in hour of system time i...</td>\n",
              "    </tr>\n",
              "    <tr>\n",
              "      <th>255</th>\n",
              "      <td>\"cannot implicitly convert type 'newtonsoft.js...</td>\n",
              "    </tr>\n",
              "    <tr>\n",
              "      <th>1670</th>\n",
              "      <td>\"keep asking for a number until a even number ...</td>\n",
              "    </tr>\n",
              "    <tr>\n",
              "      <th>1882</th>\n",
              "      <td>\"how to store and retrieve 4 sbyte values in a...</td>\n",
              "    </tr>\n",
              "    <tr>\n",
              "      <th>1946</th>\n",
              "      <td>\"blank finding the largest integer in an array...</td>\n",
              "    </tr>\n",
              "  </tbody>\n",
              "</table>\n",
              "</div><br><label><b>dtype:</b> object</label>"
            ]
          },
          "metadata": {},
          "execution_count": 140
        }
      ]
    },
    {
      "cell_type": "markdown",
      "source": [
        "Preprocess the features"
      ],
      "metadata": {
        "id": "T2gRXvaWp6DH"
      }
    },
    {
      "cell_type": "code",
      "source": [
        "X_train = feat_pipe1.fit_transform(X=X_train_raw, y=y_train).astype('float32')"
      ],
      "metadata": {
        "id": "PSsWgf1MpBdz"
      },
      "execution_count": null,
      "outputs": []
    },
    {
      "cell_type": "code",
      "source": [
        "X_val = feat_pipe1.transform(X=X_val_raw).astype('float32')"
      ],
      "metadata": {
        "id": "cURBi_HKpBaz"
      },
      "execution_count": null,
      "outputs": []
    },
    {
      "cell_type": "markdown",
      "source": [
        "## Create datasets"
      ],
      "metadata": {
        "id": "7V95YjyFqFj4"
      }
    },
    {
      "cell_type": "markdown",
      "source": [
        "We got a sparse matrix from our tf-idf vectorizer and now need to convert it into a sparse tensor before creating a dataset"
      ],
      "metadata": {
        "id": "jepkc42hv49C"
      }
    },
    {
      "cell_type": "code",
      "source": [
        "import scipy"
      ],
      "metadata": {
        "id": "DoJ6K7J0tJCa"
      },
      "execution_count": 154,
      "outputs": []
    },
    {
      "cell_type": "code",
      "source": [
        "def create_sparse_tensor(sprs_feats):\n",
        "  \"\"\"\n",
        "  Convert a tf-idf vectorized sparse array of features into a sparse tensor suitable for\n",
        "  the tf.Dataset.from_slices constructor\n",
        "  \"\"\"\n",
        "\n",
        "  idx, idy, vals = scipy.sparse.find(sprs_feats) # Row, Col and values from the sparse array\n",
        "  inds = tf.stack([idx, idy], axis=1) # Find indicies for tf sparse tensor\n",
        "  inds = tf.cast(inds, tf.int64)\n",
        "  shape = sprs_feats.shape # Sparse array shape\n",
        "  sparse_tensor = tf.sparse.SparseTensor(indices=inds, values=vals, dense_shape=shape)\n",
        "\n",
        "  return sparse_tensor"
      ],
      "metadata": {
        "id": "x7_xJ_lbwgI2"
      },
      "execution_count": 182,
      "outputs": []
    },
    {
      "cell_type": "code",
      "source": [
        "X_train_tens = create_sparse_tensor(X_train)"
      ],
      "metadata": {
        "id": "obMIbYV8xTjE"
      },
      "execution_count": 183,
      "outputs": []
    },
    {
      "cell_type": "code",
      "source": [
        "X_val_tens = create_sparse_tensor(X_val)"
      ],
      "metadata": {
        "id": "eFZKaCarx1wc"
      },
      "execution_count": 185,
      "outputs": []
    },
    {
      "cell_type": "markdown",
      "source": [
        "Create the training and validation datasets"
      ],
      "metadata": {
        "id": "gkoNmr_7wJsC"
      }
    },
    {
      "cell_type": "code",
      "source": [
        "train_ds = tf.data.Dataset.from_tensor_slices((X_train_tens, y_train))"
      ],
      "metadata": {
        "id": "RKuaENzdpBX3"
      },
      "execution_count": 186,
      "outputs": []
    },
    {
      "cell_type": "code",
      "source": [
        "val_ds = tf.data.Dataset.from_tensor_slices((X_val_tens, y_val))"
      ],
      "metadata": {
        "id": "GNNd0ZpEipkV"
      },
      "execution_count": 187,
      "outputs": []
    },
    {
      "cell_type": "code",
      "source": [
        "# Data was already shuffled by the sklearn.train_test_split"
      ],
      "metadata": {
        "id": "mw-IAdH-yiKp"
      },
      "execution_count": null,
      "outputs": []
    },
    {
      "cell_type": "code",
      "source": [
        "train_ds = train_ds.batch(batch_size=64).cache().prefetch(buffer_size=tf.data.AUTOTUNE)\n",
        "val_ds = val_ds.batch(batch_size=64).cache().prefetch(buffer_size=tf.data.AUTOTUNE)"
      ],
      "metadata": {
        "id": "c3-BgIUEyEQC"
      },
      "execution_count": 188,
      "outputs": []
    },
    {
      "cell_type": "markdown",
      "source": [
        "# Create a Simple Model"
      ],
      "metadata": {
        "id": "wnJ2Lysgys_w"
      }
    },
    {
      "cell_type": "code",
      "source": [
        "model1 = keras.Sequential(name=\"Model1\")\n",
        "model1.add(layer=keras.layers.Dropout(rate=.2, name=\"Dropout1\"))\n",
        "model1.add(layer=keras.layers.Dense(units=64, activation=\"relu\", name=\"Dense1\"))\n",
        "model1.add(layer=keras.layers.Dense(units=32, activation=\"relu\", name=\"Dense2\"))\n",
        "model1.add(layer=keras.layers.Dense(units=4, name=\"Output\")) # Deliberately omitting the activation function in the output layer to be able to use logits for loss calculations\n",
        "\n",
        "model1.compile(\n",
        "    optimizer=keras.optimizers.Adam(learning_rate=.001),\n",
        "    loss=keras.losses.SparseCategoricalCrossentropy(from_logits=True),\n",
        "    metrics=[\"accuracy\"])"
      ],
      "metadata": {
        "id": "BFnLsH6Jys_y"
      },
      "execution_count": 207,
      "outputs": []
    },
    {
      "cell_type": "code",
      "source": [
        "model1.summary()"
      ],
      "metadata": {
        "colab": {
          "base_uri": "https://localhost:8080/",
          "height": 272
        },
        "outputId": "0953ddb6-8ca5-4b01-f86e-6c6621ea0f00",
        "id": "-n8xgsFzys_z"
      },
      "execution_count": 208,
      "outputs": [
        {
          "output_type": "display_data",
          "data": {
            "text/plain": [
              "\u001b[1mModel: \"Model1\"\u001b[0m\n"
            ],
            "text/html": [
              "<pre style=\"white-space:pre;overflow-x:auto;line-height:normal;font-family:Menlo,'DejaVu Sans Mono',consolas,'Courier New',monospace\"><span style=\"font-weight: bold\">Model: \"Model1\"</span>\n",
              "</pre>\n"
            ]
          },
          "metadata": {}
        },
        {
          "output_type": "display_data",
          "data": {
            "text/plain": [
              "┏━━━━━━━━━━━━━━━━━━━━━━━━━━━━━━━━━━━━━━┳━━━━━━━━━━━━━━━━━━━━━━━━━━━━━┳━━━━━━━━━━━━━━━━━┓\n",
              "┃\u001b[1m \u001b[0m\u001b[1mLayer (type)                        \u001b[0m\u001b[1m \u001b[0m┃\u001b[1m \u001b[0m\u001b[1mOutput Shape               \u001b[0m\u001b[1m \u001b[0m┃\u001b[1m \u001b[0m\u001b[1m        Param #\u001b[0m\u001b[1m \u001b[0m┃\n",
              "┡━━━━━━━━━━━━━━━━━━━━━━━━━━━━━━━━━━━━━━╇━━━━━━━━━━━━━━━━━━━━━━━━━━━━━╇━━━━━━━━━━━━━━━━━┩\n",
              "│ Dropout1 (\u001b[38;5;33mDropout\u001b[0m)                   │ ?                           │               \u001b[38;5;34m0\u001b[0m │\n",
              "├──────────────────────────────────────┼─────────────────────────────┼─────────────────┤\n",
              "│ Dense1 (\u001b[38;5;33mDense\u001b[0m)                       │ ?                           │     \u001b[38;5;34m0\u001b[0m (unbuilt) │\n",
              "├──────────────────────────────────────┼─────────────────────────────┼─────────────────┤\n",
              "│ Dense2 (\u001b[38;5;33mDense\u001b[0m)                       │ ?                           │     \u001b[38;5;34m0\u001b[0m (unbuilt) │\n",
              "├──────────────────────────────────────┼─────────────────────────────┼─────────────────┤\n",
              "│ Output (\u001b[38;5;33mDense\u001b[0m)                       │ ?                           │     \u001b[38;5;34m0\u001b[0m (unbuilt) │\n",
              "└──────────────────────────────────────┴─────────────────────────────┴─────────────────┘\n"
            ],
            "text/html": [
              "<pre style=\"white-space:pre;overflow-x:auto;line-height:normal;font-family:Menlo,'DejaVu Sans Mono',consolas,'Courier New',monospace\">┏━━━━━━━━━━━━━━━━━━━━━━━━━━━━━━━━━━━━━━┳━━━━━━━━━━━━━━━━━━━━━━━━━━━━━┳━━━━━━━━━━━━━━━━━┓\n",
              "┃<span style=\"font-weight: bold\"> Layer (type)                         </span>┃<span style=\"font-weight: bold\"> Output Shape                </span>┃<span style=\"font-weight: bold\">         Param # </span>┃\n",
              "┡━━━━━━━━━━━━━━━━━━━━━━━━━━━━━━━━━━━━━━╇━━━━━━━━━━━━━━━━━━━━━━━━━━━━━╇━━━━━━━━━━━━━━━━━┩\n",
              "│ Dropout1 (<span style=\"color: #0087ff; text-decoration-color: #0087ff\">Dropout</span>)                   │ ?                           │               <span style=\"color: #00af00; text-decoration-color: #00af00\">0</span> │\n",
              "├──────────────────────────────────────┼─────────────────────────────┼─────────────────┤\n",
              "│ Dense1 (<span style=\"color: #0087ff; text-decoration-color: #0087ff\">Dense</span>)                       │ ?                           │     <span style=\"color: #00af00; text-decoration-color: #00af00\">0</span> (unbuilt) │\n",
              "├──────────────────────────────────────┼─────────────────────────────┼─────────────────┤\n",
              "│ Dense2 (<span style=\"color: #0087ff; text-decoration-color: #0087ff\">Dense</span>)                       │ ?                           │     <span style=\"color: #00af00; text-decoration-color: #00af00\">0</span> (unbuilt) │\n",
              "├──────────────────────────────────────┼─────────────────────────────┼─────────────────┤\n",
              "│ Output (<span style=\"color: #0087ff; text-decoration-color: #0087ff\">Dense</span>)                       │ ?                           │     <span style=\"color: #00af00; text-decoration-color: #00af00\">0</span> (unbuilt) │\n",
              "└──────────────────────────────────────┴─────────────────────────────┴─────────────────┘\n",
              "</pre>\n"
            ]
          },
          "metadata": {}
        },
        {
          "output_type": "display_data",
          "data": {
            "text/plain": [
              "\u001b[1m Total params: \u001b[0m\u001b[38;5;34m0\u001b[0m (0.00 B)\n"
            ],
            "text/html": [
              "<pre style=\"white-space:pre;overflow-x:auto;line-height:normal;font-family:Menlo,'DejaVu Sans Mono',consolas,'Courier New',monospace\"><span style=\"font-weight: bold\"> Total params: </span><span style=\"color: #00af00; text-decoration-color: #00af00\">0</span> (0.00 B)\n",
              "</pre>\n"
            ]
          },
          "metadata": {}
        },
        {
          "output_type": "display_data",
          "data": {
            "text/plain": [
              "\u001b[1m Trainable params: \u001b[0m\u001b[38;5;34m0\u001b[0m (0.00 B)\n"
            ],
            "text/html": [
              "<pre style=\"white-space:pre;overflow-x:auto;line-height:normal;font-family:Menlo,'DejaVu Sans Mono',consolas,'Courier New',monospace\"><span style=\"font-weight: bold\"> Trainable params: </span><span style=\"color: #00af00; text-decoration-color: #00af00\">0</span> (0.00 B)\n",
              "</pre>\n"
            ]
          },
          "metadata": {}
        },
        {
          "output_type": "display_data",
          "data": {
            "text/plain": [
              "\u001b[1m Non-trainable params: \u001b[0m\u001b[38;5;34m0\u001b[0m (0.00 B)\n"
            ],
            "text/html": [
              "<pre style=\"white-space:pre;overflow-x:auto;line-height:normal;font-family:Menlo,'DejaVu Sans Mono',consolas,'Courier New',monospace\"><span style=\"font-weight: bold\"> Non-trainable params: </span><span style=\"color: #00af00; text-decoration-color: #00af00\">0</span> (0.00 B)\n",
              "</pre>\n"
            ]
          },
          "metadata": {}
        }
      ]
    },
    {
      "cell_type": "code",
      "source": [
        "model1_hist = model1.fit(\n",
        "    x=train_ds,\n",
        "    validation_data=val_ds,\n",
        "    epochs=2\n",
        ")"
      ],
      "metadata": {
        "colab": {
          "base_uri": "https://localhost:8080/"
        },
        "id": "f5PS1LFRyEKz",
        "outputId": "3a370cd4-9d79-496d-ebe4-f78dbed78b68"
      },
      "execution_count": 209,
      "outputs": [
        {
          "output_type": "stream",
          "name": "stdout",
          "text": [
            "Epoch 1/2\n",
            "\u001b[1m100/100\u001b[0m \u001b[32m━━━━━━━━━━━━━━━━━━━━\u001b[0m\u001b[37m\u001b[0m \u001b[1m5s\u001b[0m 37ms/step - accuracy: 0.5135 - loss: 1.2709 - val_accuracy: 0.8400 - val_loss: 0.6581\n",
            "Epoch 2/2\n",
            "\u001b[1m100/100\u001b[0m \u001b[32m━━━━━━━━━━━━━━━━━━━━\u001b[0m\u001b[37m\u001b[0m \u001b[1m6s\u001b[0m 43ms/step - accuracy: 0.9063 - loss: 0.4681 - val_accuracy: 0.8612 - val_loss: 0.4016\n"
          ]
        }
      ]
    },
    {
      "cell_type": "markdown",
      "source": [
        "# Now let's test the data pipeline on the testing subset"
      ],
      "metadata": {
        "id": "7a-KkX4M0YhR"
      }
    },
    {
      "cell_type": "markdown",
      "source": [
        "### Preprocessing"
      ],
      "metadata": {
        "id": "xRIHduZU2F84"
      }
    },
    {
      "cell_type": "markdown",
      "source": [
        "We start with a simple dataframe"
      ],
      "metadata": {
        "id": "daT-MYEh0jnR"
      }
    },
    {
      "cell_type": "code",
      "source": [
        "test_df.head()"
      ],
      "metadata": {
        "colab": {
          "base_uri": "https://localhost:8080/",
          "height": 206
        },
        "id": "wppwhe6q0mfq",
        "outputId": "9ea4d927-33e8-4e40-abf4-0dae56217b97"
      },
      "execution_count": 193,
      "outputs": [
        {
          "output_type": "execute_result",
          "data": {
            "text/plain": [
              "                                            question language\n",
              "0  \"is it possible to move the caret to the first...   csharp\n",
              "1  \"how to activate different sections of code in...   csharp\n",
              "2  application crash my application uses twain dl...   csharp\n",
              "3  \"database controller: login i am very new to b...   csharp\n",
              "4  \"how to calculate a persons age at a given dat...   csharp"
            ],
            "text/html": [
              "\n",
              "  <div id=\"df-56c0a52a-24ca-4638-90fa-15900f58c7ba\" class=\"colab-df-container\">\n",
              "    <div>\n",
              "<style scoped>\n",
              "    .dataframe tbody tr th:only-of-type {\n",
              "        vertical-align: middle;\n",
              "    }\n",
              "\n",
              "    .dataframe tbody tr th {\n",
              "        vertical-align: top;\n",
              "    }\n",
              "\n",
              "    .dataframe thead th {\n",
              "        text-align: right;\n",
              "    }\n",
              "</style>\n",
              "<table border=\"1\" class=\"dataframe\">\n",
              "  <thead>\n",
              "    <tr style=\"text-align: right;\">\n",
              "      <th></th>\n",
              "      <th>question</th>\n",
              "      <th>language</th>\n",
              "    </tr>\n",
              "  </thead>\n",
              "  <tbody>\n",
              "    <tr>\n",
              "      <th>0</th>\n",
              "      <td>\"is it possible to move the caret to the first...</td>\n",
              "      <td>csharp</td>\n",
              "    </tr>\n",
              "    <tr>\n",
              "      <th>1</th>\n",
              "      <td>\"how to activate different sections of code in...</td>\n",
              "      <td>csharp</td>\n",
              "    </tr>\n",
              "    <tr>\n",
              "      <th>2</th>\n",
              "      <td>application crash my application uses twain dl...</td>\n",
              "      <td>csharp</td>\n",
              "    </tr>\n",
              "    <tr>\n",
              "      <th>3</th>\n",
              "      <td>\"database controller: login i am very new to b...</td>\n",
              "      <td>csharp</td>\n",
              "    </tr>\n",
              "    <tr>\n",
              "      <th>4</th>\n",
              "      <td>\"how to calculate a persons age at a given dat...</td>\n",
              "      <td>csharp</td>\n",
              "    </tr>\n",
              "  </tbody>\n",
              "</table>\n",
              "</div>\n",
              "    <div class=\"colab-df-buttons\">\n",
              "\n",
              "  <div class=\"colab-df-container\">\n",
              "    <button class=\"colab-df-convert\" onclick=\"convertToInteractive('df-56c0a52a-24ca-4638-90fa-15900f58c7ba')\"\n",
              "            title=\"Convert this dataframe to an interactive table.\"\n",
              "            style=\"display:none;\">\n",
              "\n",
              "  <svg xmlns=\"http://www.w3.org/2000/svg\" height=\"24px\" viewBox=\"0 -960 960 960\">\n",
              "    <path d=\"M120-120v-720h720v720H120Zm60-500h600v-160H180v160Zm220 220h160v-160H400v160Zm0 220h160v-160H400v160ZM180-400h160v-160H180v160Zm440 0h160v-160H620v160ZM180-180h160v-160H180v160Zm440 0h160v-160H620v160Z\"/>\n",
              "  </svg>\n",
              "    </button>\n",
              "\n",
              "  <style>\n",
              "    .colab-df-container {\n",
              "      display:flex;\n",
              "      gap: 12px;\n",
              "    }\n",
              "\n",
              "    .colab-df-convert {\n",
              "      background-color: #E8F0FE;\n",
              "      border: none;\n",
              "      border-radius: 50%;\n",
              "      cursor: pointer;\n",
              "      display: none;\n",
              "      fill: #1967D2;\n",
              "      height: 32px;\n",
              "      padding: 0 0 0 0;\n",
              "      width: 32px;\n",
              "    }\n",
              "\n",
              "    .colab-df-convert:hover {\n",
              "      background-color: #E2EBFA;\n",
              "      box-shadow: 0px 1px 2px rgba(60, 64, 67, 0.3), 0px 1px 3px 1px rgba(60, 64, 67, 0.15);\n",
              "      fill: #174EA6;\n",
              "    }\n",
              "\n",
              "    .colab-df-buttons div {\n",
              "      margin-bottom: 4px;\n",
              "    }\n",
              "\n",
              "    [theme=dark] .colab-df-convert {\n",
              "      background-color: #3B4455;\n",
              "      fill: #D2E3FC;\n",
              "    }\n",
              "\n",
              "    [theme=dark] .colab-df-convert:hover {\n",
              "      background-color: #434B5C;\n",
              "      box-shadow: 0px 1px 3px 1px rgba(0, 0, 0, 0.15);\n",
              "      filter: drop-shadow(0px 1px 2px rgba(0, 0, 0, 0.3));\n",
              "      fill: #FFFFFF;\n",
              "    }\n",
              "  </style>\n",
              "\n",
              "    <script>\n",
              "      const buttonEl =\n",
              "        document.querySelector('#df-56c0a52a-24ca-4638-90fa-15900f58c7ba button.colab-df-convert');\n",
              "      buttonEl.style.display =\n",
              "        google.colab.kernel.accessAllowed ? 'block' : 'none';\n",
              "\n",
              "      async function convertToInteractive(key) {\n",
              "        const element = document.querySelector('#df-56c0a52a-24ca-4638-90fa-15900f58c7ba');\n",
              "        const dataTable =\n",
              "          await google.colab.kernel.invokeFunction('convertToInteractive',\n",
              "                                                    [key], {});\n",
              "        if (!dataTable) return;\n",
              "\n",
              "        const docLinkHtml = 'Like what you see? Visit the ' +\n",
              "          '<a target=\"_blank\" href=https://colab.research.google.com/notebooks/data_table.ipynb>data table notebook</a>'\n",
              "          + ' to learn more about interactive tables.';\n",
              "        element.innerHTML = '';\n",
              "        dataTable['output_type'] = 'display_data';\n",
              "        await google.colab.output.renderOutput(dataTable, element);\n",
              "        const docLink = document.createElement('div');\n",
              "        docLink.innerHTML = docLinkHtml;\n",
              "        element.appendChild(docLink);\n",
              "      }\n",
              "    </script>\n",
              "  </div>\n",
              "\n",
              "\n",
              "<div id=\"df-78fde38f-540e-4771-8dbb-b86f852f0920\">\n",
              "  <button class=\"colab-df-quickchart\" onclick=\"quickchart('df-78fde38f-540e-4771-8dbb-b86f852f0920')\"\n",
              "            title=\"Suggest charts\"\n",
              "            style=\"display:none;\">\n",
              "\n",
              "<svg xmlns=\"http://www.w3.org/2000/svg\" height=\"24px\"viewBox=\"0 0 24 24\"\n",
              "     width=\"24px\">\n",
              "    <g>\n",
              "        <path d=\"M19 3H5c-1.1 0-2 .9-2 2v14c0 1.1.9 2 2 2h14c1.1 0 2-.9 2-2V5c0-1.1-.9-2-2-2zM9 17H7v-7h2v7zm4 0h-2V7h2v10zm4 0h-2v-4h2v4z\"/>\n",
              "    </g>\n",
              "</svg>\n",
              "  </button>\n",
              "\n",
              "<style>\n",
              "  .colab-df-quickchart {\n",
              "      --bg-color: #E8F0FE;\n",
              "      --fill-color: #1967D2;\n",
              "      --hover-bg-color: #E2EBFA;\n",
              "      --hover-fill-color: #174EA6;\n",
              "      --disabled-fill-color: #AAA;\n",
              "      --disabled-bg-color: #DDD;\n",
              "  }\n",
              "\n",
              "  [theme=dark] .colab-df-quickchart {\n",
              "      --bg-color: #3B4455;\n",
              "      --fill-color: #D2E3FC;\n",
              "      --hover-bg-color: #434B5C;\n",
              "      --hover-fill-color: #FFFFFF;\n",
              "      --disabled-bg-color: #3B4455;\n",
              "      --disabled-fill-color: #666;\n",
              "  }\n",
              "\n",
              "  .colab-df-quickchart {\n",
              "    background-color: var(--bg-color);\n",
              "    border: none;\n",
              "    border-radius: 50%;\n",
              "    cursor: pointer;\n",
              "    display: none;\n",
              "    fill: var(--fill-color);\n",
              "    height: 32px;\n",
              "    padding: 0;\n",
              "    width: 32px;\n",
              "  }\n",
              "\n",
              "  .colab-df-quickchart:hover {\n",
              "    background-color: var(--hover-bg-color);\n",
              "    box-shadow: 0 1px 2px rgba(60, 64, 67, 0.3), 0 1px 3px 1px rgba(60, 64, 67, 0.15);\n",
              "    fill: var(--button-hover-fill-color);\n",
              "  }\n",
              "\n",
              "  .colab-df-quickchart-complete:disabled,\n",
              "  .colab-df-quickchart-complete:disabled:hover {\n",
              "    background-color: var(--disabled-bg-color);\n",
              "    fill: var(--disabled-fill-color);\n",
              "    box-shadow: none;\n",
              "  }\n",
              "\n",
              "  .colab-df-spinner {\n",
              "    border: 2px solid var(--fill-color);\n",
              "    border-color: transparent;\n",
              "    border-bottom-color: var(--fill-color);\n",
              "    animation:\n",
              "      spin 1s steps(1) infinite;\n",
              "  }\n",
              "\n",
              "  @keyframes spin {\n",
              "    0% {\n",
              "      border-color: transparent;\n",
              "      border-bottom-color: var(--fill-color);\n",
              "      border-left-color: var(--fill-color);\n",
              "    }\n",
              "    20% {\n",
              "      border-color: transparent;\n",
              "      border-left-color: var(--fill-color);\n",
              "      border-top-color: var(--fill-color);\n",
              "    }\n",
              "    30% {\n",
              "      border-color: transparent;\n",
              "      border-left-color: var(--fill-color);\n",
              "      border-top-color: var(--fill-color);\n",
              "      border-right-color: var(--fill-color);\n",
              "    }\n",
              "    40% {\n",
              "      border-color: transparent;\n",
              "      border-right-color: var(--fill-color);\n",
              "      border-top-color: var(--fill-color);\n",
              "    }\n",
              "    60% {\n",
              "      border-color: transparent;\n",
              "      border-right-color: var(--fill-color);\n",
              "    }\n",
              "    80% {\n",
              "      border-color: transparent;\n",
              "      border-right-color: var(--fill-color);\n",
              "      border-bottom-color: var(--fill-color);\n",
              "    }\n",
              "    90% {\n",
              "      border-color: transparent;\n",
              "      border-bottom-color: var(--fill-color);\n",
              "    }\n",
              "  }\n",
              "</style>\n",
              "\n",
              "  <script>\n",
              "    async function quickchart(key) {\n",
              "      const quickchartButtonEl =\n",
              "        document.querySelector('#' + key + ' button');\n",
              "      quickchartButtonEl.disabled = true;  // To prevent multiple clicks.\n",
              "      quickchartButtonEl.classList.add('colab-df-spinner');\n",
              "      try {\n",
              "        const charts = await google.colab.kernel.invokeFunction(\n",
              "            'suggestCharts', [key], {});\n",
              "      } catch (error) {\n",
              "        console.error('Error during call to suggestCharts:', error);\n",
              "      }\n",
              "      quickchartButtonEl.classList.remove('colab-df-spinner');\n",
              "      quickchartButtonEl.classList.add('colab-df-quickchart-complete');\n",
              "    }\n",
              "    (() => {\n",
              "      let quickchartButtonEl =\n",
              "        document.querySelector('#df-78fde38f-540e-4771-8dbb-b86f852f0920 button');\n",
              "      quickchartButtonEl.style.display =\n",
              "        google.colab.kernel.accessAllowed ? 'block' : 'none';\n",
              "    })();\n",
              "  </script>\n",
              "</div>\n",
              "\n",
              "    </div>\n",
              "  </div>\n"
            ],
            "application/vnd.google.colaboratory.intrinsic+json": {
              "type": "dataframe",
              "variable_name": "test_df",
              "summary": "{\n  \"name\": \"test_df\",\n  \"rows\": 8000,\n  \"fields\": [\n    {\n      \"column\": \"question\",\n      \"properties\": {\n        \"dtype\": \"string\",\n        \"num_unique_values\": 8000,\n        \"samples\": [\n          \"\\\"calculating number of pizzas needed and slices leftover i need help figuring out how to modify my program to calculate the number of pizzas needed and then the remainder of slices. so for example if the user inputs 18 people you would need 2 pizzas (since there are 20 slices per pizza) and there would be 4 slices leftover. the slices per pizza and how many slices each person eats is constant, 2 slices per person, and 20 slices per pizza. the program asks for the amount of people attending. also i cannot use conditional statements...`..    int pizza = 20;.    int pizzaperson = 2;...    system.out.println(\\\"\\\"what is the number of people expected at the pizza party?\\\"\\\");.    int people = integer.parseint(s.nextline());...    int pizzatotal = (people * pizzaperson);.    int pizzaleft = pizzatotal % pizza; .    int total = (pizza / pizzaperson) % people;.            system.out.println(\\\"\\\"for \\\"\\\" + people + \\\"\\\" people that would be \\\"\\\" + pizzatotal + \\\"\\\" pizza(s) with each person having \\\"\\\" + pizzaperson + \\\"\\\" slices each.\\\"\\\");.            system.out.println(\\\"\\\"there would be \\\"\\\" + pizzaleft + \\\"\\\" slice(s) leftover\\\"\\\");...`\\\"\\n\",\n          \"\\\"can i use input.next() in the header of a for loop? i am trying to read in input of the form of n lines with each line having a string and an int, separated by a single space..my professor banned the use of data fields aside from the ones provided, so i ended up trying to use the input as i went..i keep getting an inputmismatchexception that points to the header of my for loop and i don't know what it is reading that causes an inputmismatchexception...i wrote the code of what i tried to do with the use of an int variable to represent the maximum number of iterations my for loop should iterate, and it seemed to work without any errors...       for(int i = 0; i&lt;input.nextint();i++) {.           insert(input.next(), input.nextint(), tree);.       }...below is what i did with a variable (what i would do if allowed to create data fields)..     int data = integer.parseint(input.next());.     for (int i = 0; i&lt;data; i ++) {.       insert(input.next(),input.nextint(),tree);.     }...while trying a sample input of ..3..earth 10 ..venus 30..jupiter 5..the error pops up after i enter venus 30..does the value i get from the input.next() in the for loop header change as i iterate (i fail to see why it would)? or does this simply seem to be a logic error?\\\"\\n\",\n          \"\\\"inserting data into a access database using parameters what am i not understanding in the following code:..using (oledbconnection connectionfail = new oledbconnection(@\\\"\\\"provider=microsoft.ace.oledb.12.0;data source=d:fail_db.mdb\\\"\\\")).            {.             connectionfail.open();.              var cmd = new sqlcommand(\\\"\\\"insert into summary (a, b, c) values (@a, @b, @c)\\\"\\\");.                cmd.parameters.add(\\\"\\\"@a\\\"\\\", sqldbtype.nvarchar, 50).value = \\\"\\\"a\\\"\\\";.                cmd.parameters.add(\\\"\\\"@b\\\"\\\", sqldbtype.nvarchar, 50).value = \\\"\\\"b\\\"\\\";.                cmd.parameters.add(\\\"\\\"@c\\\"\\\", sqldbtype.nvarchar, 50).value = \\\"\\\"c\\\"\\\";.                try.                {.                cmd.executenonquery();.                }.                catch (exception ex).                {.                messagebox.show(ex.tostring());.                }.                finally.                {.                connectionfail.close();.                cmd.dispose();.                }.                connectionfail.close();.                }...          }...i just want to add data to a summary table. i get executenonquery:connection property has not been initialized. what am i not understanding?\\\"\\n\"\n        ],\n        \"semantic_type\": \"\",\n        \"description\": \"\"\n      }\n    },\n    {\n      \"column\": \"language\",\n      \"properties\": {\n        \"dtype\": \"category\",\n        \"num_unique_values\": 4,\n        \"samples\": [\n          \"java\",\n          \"python\",\n          \"csharp\"\n        ],\n        \"semantic_type\": \"\",\n        \"description\": \"\"\n      }\n    }\n  ]\n}"
            }
          },
          "metadata": {},
          "execution_count": 193
        }
      ]
    },
    {
      "cell_type": "code",
      "source": [
        "test_df.info()"
      ],
      "metadata": {
        "colab": {
          "base_uri": "https://localhost:8080/"
        },
        "id": "fSeMlnZ1yEH7",
        "outputId": "a6e74273-59a1-4873-cf9f-b60a9960939e"
      },
      "execution_count": 194,
      "outputs": [
        {
          "output_type": "stream",
          "name": "stdout",
          "text": [
            "<class 'pandas.core.frame.DataFrame'>\n",
            "Index: 8000 entries, 0 to 1999\n",
            "Data columns (total 2 columns):\n",
            " #   Column    Non-Null Count  Dtype   \n",
            "---  ------    --------------  -----   \n",
            " 0   question  8000 non-null   object  \n",
            " 1   language  8000 non-null   category\n",
            "dtypes: category(1), object(1)\n",
            "memory usage: 133.0+ KB\n"
          ]
        }
      ]
    },
    {
      "cell_type": "markdown",
      "source": [
        "Separate features and labels"
      ],
      "metadata": {
        "id": "UPj6oTp91MAe"
      }
    },
    {
      "cell_type": "code",
      "source": [
        "x_test_raw = test_df['question'].copy()\n",
        "y_test_raw = test_df['language'].copy()"
      ],
      "metadata": {
        "id": "v3UJY_I5yEFL"
      },
      "execution_count": 196,
      "outputs": []
    },
    {
      "cell_type": "markdown",
      "source": [
        "Encode the labels"
      ],
      "metadata": {
        "id": "PMzR4GoC1jxi"
      }
    },
    {
      "cell_type": "code",
      "source": [
        "y_test = lbl_encoder.transform(y_test_raw)"
      ],
      "metadata": {
        "id": "g-VckdjHyD_y"
      },
      "execution_count": 198,
      "outputs": []
    },
    {
      "cell_type": "code",
      "source": [
        "y_test"
      ],
      "metadata": {
        "colab": {
          "base_uri": "https://localhost:8080/"
        },
        "id": "USSD26W6yD9H",
        "outputId": "3f900335-6cdc-43a9-bac6-e54169b78406"
      },
      "execution_count": 199,
      "outputs": [
        {
          "output_type": "execute_result",
          "data": {
            "text/plain": [
              "array([0, 0, 0, ..., 3, 3, 3])"
            ]
          },
          "metadata": {},
          "execution_count": 199
        }
      ]
    },
    {
      "cell_type": "markdown",
      "source": [
        "Preprocess the features\n",
        "\n",
        "Hopefully without any data leakage"
      ],
      "metadata": {
        "id": "qeWZuebN1twj"
      }
    },
    {
      "cell_type": "code",
      "source": [
        "x_test = feat_pipe1.transform(x_test_raw)"
      ],
      "metadata": {
        "id": "ANPa-yOLiphW"
      },
      "execution_count": 200,
      "outputs": []
    },
    {
      "cell_type": "markdown",
      "source": [
        "### Dataset creation"
      ],
      "metadata": {
        "id": "GZw3L39W2Int"
      }
    },
    {
      "cell_type": "code",
      "source": [
        "x_test_tens = create_sparse_tensor(x_test)"
      ],
      "metadata": {
        "id": "peY6-t5b13iz"
      },
      "execution_count": 201,
      "outputs": []
    },
    {
      "cell_type": "code",
      "source": [
        "test_ds = tf.data.Dataset.from_tensor_slices((x_test_tens, y_test))"
      ],
      "metadata": {
        "id": "94LTvEjL13gT"
      },
      "execution_count": 202,
      "outputs": []
    },
    {
      "cell_type": "code",
      "source": [
        "test_ds = test_ds.batch(batch_size=64).cache().prefetch(buffer_size=tf.data.AUTOTUNE)"
      ],
      "metadata": {
        "id": "w390_6iQ13do"
      },
      "execution_count": 203,
      "outputs": []
    },
    {
      "cell_type": "code",
      "source": [
        "test_ds"
      ],
      "metadata": {
        "colab": {
          "base_uri": "https://localhost:8080/"
        },
        "id": "Ttf3WD3N13a1",
        "outputId": "681d1baf-cb14-4e56-f6b3-8cd7fde4744e"
      },
      "execution_count": 204,
      "outputs": [
        {
          "output_type": "execute_result",
          "data": {
            "text/plain": [
              "<_PrefetchDataset element_spec=(SparseTensorSpec(TensorShape([None, 20000]), tf.float64), TensorSpec(shape=(None,), dtype=tf.int64, name=None))>"
            ]
          },
          "metadata": {},
          "execution_count": 204
        }
      ]
    },
    {
      "cell_type": "markdown",
      "source": [
        "# Evaluate the model\n",
        "\n",
        "Just to test the data honestly"
      ],
      "metadata": {
        "id": "Ucv2LR2i3AAd"
      }
    },
    {
      "cell_type": "code",
      "source": [
        "model1.evaluate(x=test_ds)"
      ],
      "metadata": {
        "colab": {
          "base_uri": "https://localhost:8080/"
        },
        "id": "6BVq-Khf13YZ",
        "outputId": "f521bfef-0450-49d9-d89d-26001fcc53f0"
      },
      "execution_count": 210,
      "outputs": [
        {
          "output_type": "stream",
          "name": "stdout",
          "text": [
            "\u001b[1m125/125\u001b[0m \u001b[32m━━━━━━━━━━━━━━━━━━━━\u001b[0m\u001b[37m\u001b[0m \u001b[1m1s\u001b[0m 8ms/step - accuracy: 0.8605 - loss: 0.3992\n"
          ]
        },
        {
          "output_type": "execute_result",
          "data": {
            "text/plain": [
              "[0.3679424226284027, 0.8769999742507935]"
            ]
          },
          "metadata": {},
          "execution_count": 210
        }
      ]
    },
    {
      "cell_type": "markdown",
      "source": [
        "# Conclusions"
      ],
      "metadata": {
        "id": "5MgmfIjX2XYB"
      }
    },
    {
      "cell_type": "markdown",
      "source": [
        "* My apprehension towards using a different library for preprocessing and thus decoupling it from the built-in tensorflow workflow has proven ill placed\n",
        "* In the future encapsulate the entire data preprocessing stage into a single function\n",
        "* In the future work on more advanced and complex preprocessing steps without worry\n",
        "* Reading data from files, web etc. works well in Colab; It's worth from now on to create nicer data reading steps than here"
      ],
      "metadata": {
        "id": "pLcuwbrU2aI_"
      }
    }
  ]
}